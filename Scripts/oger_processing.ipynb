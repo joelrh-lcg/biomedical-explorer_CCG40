{
 "cells": [
  {
   "cell_type": "code",
   "execution_count": 17,
   "metadata": {},
   "outputs": [],
   "source": [
    "import argparse\n",
    "import os\n",
    "import collections\n",
    "from tqdm import tqdm \n",
    "from collections import defaultdict\n",
    "import operator\n",
    "from functools import reduce\n",
    "from collections import Counter\n",
    "import numpy as np\n",
    "import string\n",
    "import sys"
   ]
  },
  {
   "cell_type": "code",
   "execution_count": 56,
   "metadata": {},
   "outputs": [],
   "source": [
    "#####################################################\n",
    "##       Direcciones de archivos y argsparse       ##\n",
    "#####################################################\n",
    "#term either prefered (5) or as found in paper (4)\n",
    "oger = '../temp/oger_annot_lemma.txt'\n",
    "cluster_order = '../temp/abs.txt'\n",
    "t = 5\n",
    "typeof = 'preferred_'"
   ]
  },
  {
   "cell_type": "code",
   "execution_count": 57,
   "metadata": {},
   "outputs": [
    {
     "name": "stderr",
     "output_type": "stream",
     "text": [
      "145290it [00:00, 175788.78it/s]\n"
     ]
    }
   ],
   "source": [
    "#####################################################\n",
    "##   Dic de pmid con palabras unicas por entidad   ##\n",
    "#####################################################\n",
    "\n",
    "pmids=defaultdict(dict)\n",
    "\n",
    "with open (oger, 'r', encoding=\"utf-8\") as file:\n",
    "    for line in tqdm(file):\n",
    "        pmid = line.split('\\t')[0]\n",
    "        if line[0].isdigit():\n",
    "            #print(line)\n",
    "            if pmid in pmids.keys():\n",
    "                pmids[pmid][line.split('\\t')[1]].add(line.split('\\t')[t].strip('\\n'))\n",
    "            else:\n",
    "                pmids[pmid]['biological_process']=set()\n",
    "                pmids[pmid]['cellular_component']=set()\n",
    "                pmids[pmid]['chemical']=set()\n",
    "                pmids[pmid]['disease']=set()\n",
    "                pmids[pmid]['gene/protein']=set()\n",
    "                pmids[pmid]['molecular_function']=set()\n",
    "                pmids[pmid]['organism']=set()\n",
    "                pmids[pmid]['sequence']=set()\n",
    "                pmids[pmid]['cell']=set()\n",
    "                pmids[pmid]['cell_line']=set()\n",
    "                pmids[pmid]['organ/tissue']=set()\n",
    "                pmids[pmid]['clinical_drug']=set()\n",
    "                pmids[pmid]['molecular_process']=set()\n",
    "                pmids[pmid]['entity_type']=set()\n",
    "                #pmids[pmid]=defaultdict(set)\n",
    "                pmids[pmid][line.split('\\t')[1]].add(line.split('\\t')[t])\n"
   ]
  },
  {
   "cell_type": "code",
   "execution_count": 58,
   "metadata": {},
   "outputs": [
    {
     "name": "stderr",
     "output_type": "stream",
     "text": [
      "145290it [00:01, 111566.89it/s]\n"
     ]
    }
   ],
   "source": [
    "#####################################################\n",
    "##  Dic de pmid con frecuencias unicas por entidad ##\n",
    "#####################################################\n",
    "\n",
    "pmids_frec=defaultdict(dict)\n",
    "\n",
    "with open (oger, 'r', encoding=\"utf-8\") as file:\n",
    "    for line in tqdm(file):\n",
    "        if line[0].isdigit():\n",
    "            pmid = line.split('\\t')[0]\n",
    "            entidad = line.split('\\t')[1]\n",
    "            palabra = line.split('\\t')[t]\n",
    "            if pmid in pmids_frec.keys():\n",
    "                if palabra in pmids_frec[pmid][entidad].keys():\n",
    "                    pmids_frec[pmid][entidad][palabra]+=1\n",
    "                else:\n",
    "                    pmids_frec[pmid][line.split('\\t')[1]][line.split('\\t')[t]]=1\n",
    "            else:\n",
    "                pmids_frec[pmid]['biological_process']=defaultdict(dict)\n",
    "                pmids_frec[pmid]['cellular_component']=defaultdict(dict)\n",
    "                pmids_frec[pmid]['chemical']=defaultdict(dict)\n",
    "                pmids_frec[pmid]['disease']=defaultdict(dict)\n",
    "                pmids_frec[pmid]['gene/protein']=defaultdict(dict)\n",
    "                pmids_frec[pmid]['molecular_function']=defaultdict(dict)\n",
    "                pmids_frec[pmid]['organism']=defaultdict(dict)\n",
    "                pmids_frec[pmid]['sequence']=defaultdict(dict)\n",
    "                pmids_frec[pmid]['cell']=defaultdict(dict)\n",
    "                pmids_frec[pmid]['cell_line']=defaultdict(dict)\n",
    "                pmids_frec[pmid]['organ/tissue']=defaultdict(dict)\n",
    "                pmids_frec[pmid]['clinical_drug']=defaultdict(dict)\n",
    "                pmids_frec[pmid]['molecular_process']=defaultdict(dict)\n",
    "                pmids_frec[pmid]['entity_type']=defaultdict(dict)\n",
    "                pmids_frec[pmid][line.split('\\t')[1]][line.split('\\t')[t]]=1\n"
   ]
  },
  {
   "cell_type": "code",
   "execution_count": 59,
   "metadata": {},
   "outputs": [
    {
     "name": "stderr",
     "output_type": "stream",
     "text": [
      "100%|██████████| 1095/1095 [00:01<00:00, 693.33it/s]\n"
     ]
    }
   ],
   "source": [
    "#####################################################\n",
    "##  txt de palabras de > a < frecuencia por pmid   ##\n",
    "#####################################################    \n",
    "for pmid in tqdm(pmids_frec):\n",
    "    with open ('../temp/oger/by_pmid/'+typeof+pmid+'_frec.txt', 'w', encoding=\"utf-8\") as file:\n",
    "        for entidad in pmids_frec[pmid]:\n",
    "            ent = sorted(pmids_frec[pmid][entidad].items(), key=lambda x: x[1], reverse=True)\n",
    "            for tup in ent:\n",
    "                file.write(pmid+'\\t'+entidad+'\\t'+tup[0]+'\\t'+str(tup[1])+'\\n')"
   ]
  },
  {
   "cell_type": "code",
   "execution_count": 60,
   "metadata": {},
   "outputs": [],
   "source": [
    "#####################################################\n",
    "##  dic de palabras de > a < frecuencia por clust  ##\n",
    "#####################################################\n",
    "\n",
    "with open (cluster_order, 'r', encoding=\"ISO-8859-1\") as file:\n",
    "    orden = [line.strip('\\n').split('\\t')[0] for line in file]\n",
    "#print(orden)\n",
    "clusters=defaultdict(dict)\n",
    "for file in os.listdir('../results/clustering/'):\n",
    "    #if file.startswith('k'):\n",
    "    #print(file)\n",
    "    with open ('../results/clustering/'+file, 'r',  encoding=\"ISO-8859-1\") as f:\n",
    "        cluster=file.strip('.txt')\n",
    "        cont=0\n",
    "        for line in f: \n",
    "            #print(line+'\\n\\n')\n",
    "            key=line.split('\\t')[2].strip('\\n')\n",
    "            if not line.startswith('dim'):\n",
    "                if key in clusters[cluster].keys():\n",
    "                    clusters[cluster][key].append(orden[cont])\n",
    "                    cont+=1\n",
    "                else:\n",
    "\n",
    "                    clusters[cluster][key]=[]\n",
    "                    clusters[cluster][key].append(orden[cont])\n",
    "                    cont+=1"
   ]
  },
  {
   "cell_type": "code",
   "execution_count": 61,
   "metadata": {},
   "outputs": [],
   "source": [
    "cluster_frecs=defaultdict(dict)\n",
    "for met in clusters:\n",
    "    cluster_frecs[met]=defaultdict(dict)\n",
    "    for cluster in clusters[met]:\n",
    "        cluster_frecs[met][cluster]=defaultdict(dict)\n",
    "        for pmid in clusters[met][cluster]:\n",
    "            \n",
    "            for entidad in pmids_frec[pmid]:\n",
    "                for palabra in pmids_frec[pmid][entidad]:\n",
    "                    \n",
    "                    if palabra in cluster_frecs[met][cluster][entidad]:\n",
    "                        cluster_frecs[met][cluster][entidad][palabra][0]=pmids_frec[pmid][entidad][palabra]+cluster_frecs[met][cluster][entidad][palabra][0]\n",
    "                    else: \n",
    "                        cluster_frecs[met][cluster][entidad][palabra]=[pmids_frec[pmid][entidad][palabra]]\n"
   ]
  },
  {
   "cell_type": "code",
   "execution_count": 62,
   "metadata": {},
   "outputs": [
    {
     "name": "stderr",
     "output_type": "stream",
     "text": [
      "100%|██████████| 1/1 [00:00<00:00, 11.29it/s]\n"
     ]
    }
   ],
   "source": [
    "#####################################################\n",
    "##  txt de palabras de > a < frecuencia por pmid   ##\n",
    "#####################################################    \n",
    "for met in tqdm(cluster_frecs.keys()):\n",
    "    with open ('../temp/oger/by_pmid/'+typeof+met+'_frec.txt', 'w', encoding='utf-8') as file:\n",
    "        for cluster in cluster_frecs[met]:\n",
    "            for entidad in cluster_frecs[met][cluster]:\n",
    "                ent = sorted(cluster_frecs[met][cluster][entidad].items(), key=lambda x: x[1], reverse=True)\n",
    "                for tup in ent:\n",
    "                    file.write(cluster+'\\t'+entidad+'\\t'+tup[0]+'\\t'+str(tup[1][0])+'\\n')"
   ]
  },
  {
   "cell_type": "code",
   "execution_count": 63,
   "metadata": {},
   "outputs": [],
   "source": [
    "#####################################################\n",
    "##     # de clsuters en que aparece // tf-idf      ##\n",
    "##################################################### \n",
    "entidades = ['cellular_component', 'chemical', 'gene/protein', 'organism', 'sequence', 'cell_line', 'organ/tissue', 'molecular_process', 'biological_process', 'clinical_drug', 'disease', 'molecular_function', 'entity_type', 'cell']\n",
    "\n",
    "\n",
    "for entidad in entidades:\n",
    "    for met in cluster_frecs:\n",
    "        lista = []\n",
    "        for cluster in cluster_frecs[met]:\n",
    "            lista+=list(cluster_frecs[met][cluster][entidad].keys())\n",
    "        dic = Counter(lista)\n",
    "        for cluster in cluster_frecs[met]:\n",
    "            for palabra in dic.keys():\n",
    "                if palabra in cluster_frecs[met][cluster][entidad].keys():\n",
    "                    cluster_frecs[met][cluster][entidad][palabra].append(dic[palabra])\n",
    "        "
   ]
  },
  {
   "cell_type": "code",
   "execution_count": 64,
   "metadata": {},
   "outputs": [
    {
     "name": "stderr",
     "output_type": "stream",
     "text": [
      "100%|██████████| 1/1 [00:00<00:00,  6.36it/s]\n"
     ]
    }
   ],
   "source": [
    "#####################################################\n",
    "##     # de clsuters en que aparece // tf/idf      ##\n",
    "##################################################### \n",
    "# Frecuencia 1er posicion de list palabra\n",
    "# # de apariciones 2da posicion\n",
    "# frec * log (# clsuter totales / # de apariciones)\n",
    "\n",
    "for met in tqdm(cluster_frecs):\n",
    "    c_tot = len(cluster_frecs[met].keys())\n",
    "    for cluster in cluster_frecs[met]:\n",
    "        for entidad in cluster_frecs[met][cluster]:\n",
    "            for palabra in cluster_frecs[met][cluster][entidad]:\n",
    "                frec = cluster_frecs[met][cluster][entidad][palabra][0]\n",
    "                apar = cluster_frecs[met][cluster][entidad][palabra][1]\n",
    "                tfidf=frec*np.log10(c_tot/apar)\n",
    "                cluster_frecs[met][cluster][entidad][palabra].append(tfidf)"
   ]
  },
  {
   "cell_type": "code",
   "execution_count": 65,
   "metadata": {},
   "outputs": [
    {
     "name": "stderr",
     "output_type": "stream",
     "text": [
      "100%|██████████| 1/1 [00:00<00:00, 19.03it/s]\n"
     ]
    }
   ],
   "source": [
    "#####################################################\n",
    "##  txt de tfidf de > a < frecuencia por cluster   ##\n",
    "#####################################################    \n",
    "for met in tqdm(cluster_frecs):\n",
    "    with open ('../temp/oger/by_cluster/'+typeof+met+'_5_tfidf.txt', 'w', encoding='utf-8') as file:\n",
    "        for cluster in cluster_frecs[met]:\n",
    "            for entidad in cluster_frecs[met][cluster]:\n",
    "                ent = sorted(cluster_frecs[met][cluster][entidad].items(), key=lambda x: x[1][2], reverse=True)\n",
    "                #print(ent)\n",
    "                i = 0\n",
    "                for pal in ent:\n",
    "                    if i < 5:\n",
    "                        #print(met, cluster, entidad, ent[i][0])\n",
    "                        file.write(cluster+'\\t'+entidad+'\\t'+pal[0]+'\\t'+str(pal[1][0])+'\\t'+str(pal[1][1])+'\\t'+str(pal[1][2])+'\\n')\n",
    "                        i+=1"
   ]
  },
  {
   "cell_type": "code",
   "execution_count": 66,
   "metadata": {},
   "outputs": [
    {
     "name": "stderr",
     "output_type": "stream",
     "text": [
      "100%|██████████| 1/1 [00:00<00:00, 16.23it/s]\n"
     ]
    }
   ],
   "source": [
    "#####################################################\n",
    "##  txt de tfidf de > a < frecuencia por cluster   ##\n",
    "#####################################################  \n",
    "for met in tqdm(cluster_frecs):\n",
    "    with open ('../temp/oger/by_cluster/'+typeof+met+'_10_tfidf.txt', 'w', encoding='utf-8') as file:\n",
    "        for cluster in cluster_frecs[met]:\n",
    "            for entidad in cluster_frecs[met][cluster]:\n",
    "                ent = sorted(cluster_frecs[met][cluster][entidad].items(), key=lambda x: x[1][2], reverse=True)\n",
    "                i = 0\n",
    "                for pal in ent:\n",
    "                    if i < 10:\n",
    "                        file.write(cluster+'\\t'+entidad+'\\t'+pal[0]+'\\t'+str(pal[1][0])+'\\t'+str(pal[1][1])+'\\t'+str(pal[1][2])+'\\n')\n",
    "                        i+=1"
   ]
  }
 ],
 "metadata": {
  "kernelspec": {
   "display_name": "Python 3",
   "language": "python",
   "name": "python3"
  },
  "language_info": {
   "codemirror_mode": {
    "name": "ipython",
    "version": 3
   },
   "file_extension": ".py",
   "mimetype": "text/x-python",
   "name": "python",
   "nbconvert_exporter": "python",
   "pygments_lexer": "ipython3",
   "version": "3.6.10"
  }
 },
 "nbformat": 4,
 "nbformat_minor": 4
}
